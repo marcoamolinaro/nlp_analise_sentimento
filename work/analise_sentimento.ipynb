{
 "cells": [
  {
   "cell_type": "code",
   "execution_count": 2,
   "id": "23c62885",
   "metadata": {},
   "outputs": [],
   "source": [
    "import pandas as pd\n",
    "\n",
    "df = pd.read_csv('https://raw.githubusercontent.com/alura-cursos/nlp_analise_sentimento/refs/heads/main/Dados/dataset_avaliacoes.csv')"
   ]
  },
  {
   "cell_type": "code",
   "execution_count": 3,
   "id": "c2200526",
   "metadata": {},
   "outputs": [
    {
     "data": {
      "text/html": [
       "<div>\n",
       "<style scoped>\n",
       "    .dataframe tbody tr th:only-of-type {\n",
       "        vertical-align: middle;\n",
       "    }\n",
       "\n",
       "    .dataframe tbody tr th {\n",
       "        vertical-align: top;\n",
       "    }\n",
       "\n",
       "    .dataframe thead th {\n",
       "        text-align: right;\n",
       "    }\n",
       "</style>\n",
       "<table border=\"1\" class=\"dataframe\">\n",
       "  <thead>\n",
       "    <tr style=\"text-align: right;\">\n",
       "      <th></th>\n",
       "      <th>ID_avaliacao</th>\n",
       "      <th>avaliacao</th>\n",
       "      <th>nota</th>\n",
       "      <th>sentimento</th>\n",
       "    </tr>\n",
       "  </thead>\n",
       "  <tbody>\n",
       "    <tr>\n",
       "      <th>0</th>\n",
       "      <td>81841</td>\n",
       "      <td>Esse smartphone superou minhas expectativas, r...</td>\n",
       "      <td>5</td>\n",
       "      <td>positivo</td>\n",
       "    </tr>\n",
       "    <tr>\n",
       "      <th>1</th>\n",
       "      <td>28031</td>\n",
       "      <td>o cheiro e muito desagradavel!! pra quem se in...</td>\n",
       "      <td>2</td>\n",
       "      <td>negativo</td>\n",
       "    </tr>\n",
       "    <tr>\n",
       "      <th>2</th>\n",
       "      <td>91332</td>\n",
       "      <td>Eu fiz a compra a loja não entregou o produto,...</td>\n",
       "      <td>1</td>\n",
       "      <td>negativo</td>\n",
       "    </tr>\n",
       "    <tr>\n",
       "      <th>3</th>\n",
       "      <td>110045</td>\n",
       "      <td>Atendeu minhas expectativas, só achei a luz ru...</td>\n",
       "      <td>4</td>\n",
       "      <td>positivo</td>\n",
       "    </tr>\n",
       "    <tr>\n",
       "      <th>4</th>\n",
       "      <td>36929</td>\n",
       "      <td>Gostei muito, só achei que ficou a desejar a q...</td>\n",
       "      <td>5</td>\n",
       "      <td>positivo</td>\n",
       "    </tr>\n",
       "  </tbody>\n",
       "</table>\n",
       "</div>"
      ],
      "text/plain": [
       "   ID_avaliacao                                          avaliacao  nota  \\\n",
       "0         81841  Esse smartphone superou minhas expectativas, r...     5   \n",
       "1         28031  o cheiro e muito desagradavel!! pra quem se in...     2   \n",
       "2         91332  Eu fiz a compra a loja não entregou o produto,...     1   \n",
       "3        110045  Atendeu minhas expectativas, só achei a luz ru...     4   \n",
       "4         36929  Gostei muito, só achei que ficou a desejar a q...     5   \n",
       "\n",
       "  sentimento  \n",
       "0   positivo  \n",
       "1   negativo  \n",
       "2   negativo  \n",
       "3   positivo  \n",
       "4   positivo  "
      ]
     },
     "execution_count": 3,
     "metadata": {},
     "output_type": "execute_result"
    }
   ],
   "source": [
    "df.head()"
   ]
  },
  {
   "cell_type": "code",
   "execution_count": 4,
   "id": "52db1dc8",
   "metadata": {},
   "outputs": [
    {
     "data": {
      "text/plain": [
       "(15501, 4)"
      ]
     },
     "execution_count": 4,
     "metadata": {},
     "output_type": "execute_result"
    }
   ],
   "source": [
    "df.shape"
   ]
  },
  {
   "cell_type": "code",
   "execution_count": 5,
   "id": "3d1b8d7a",
   "metadata": {},
   "outputs": [
    {
     "data": {
      "text/plain": [
       "sentimento\n",
       "positivo    7890\n",
       "negativo    7611\n",
       "Name: count, dtype: int64"
      ]
     },
     "execution_count": 5,
     "metadata": {},
     "output_type": "execute_result"
    }
   ],
   "source": [
    "df.value_counts('sentimento')"
   ]
  },
  {
   "cell_type": "code",
   "execution_count": 6,
   "id": "5ecc0f3b",
   "metadata": {},
   "outputs": [
    {
     "name": "stdout",
     "output_type": "stream",
     "text": [
      "Positiva \n",
      "\n"
     ]
    },
    {
     "data": {
      "text/plain": [
       "'Esse smartphone superou minhas expectativas, recomendo'"
      ]
     },
     "execution_count": 6,
     "metadata": {},
     "output_type": "execute_result"
    }
   ],
   "source": [
    "print('Positiva \\n')\n",
    "\n",
    "df.avaliacao[0]"
   ]
  },
  {
   "cell_type": "code",
   "execution_count": 7,
   "id": "689d3be1",
   "metadata": {},
   "outputs": [
    {
     "name": "stdout",
     "output_type": "stream",
     "text": [
      "Negativa \n",
      "\n"
     ]
    },
    {
     "data": {
      "text/plain": [
       "'Eu fiz a compra a loja não entregou o produto, a compra foi feita no cartão de credito e ate o momento a loja também nao me devolveu o valor da compra.'"
      ]
     },
     "execution_count": 7,
     "metadata": {},
     "output_type": "execute_result"
    }
   ],
   "source": [
    "print('Negativa \\n')\n",
    "\n",
    "df.avaliacao[2]"
   ]
  },
  {
   "cell_type": "code",
   "execution_count": null,
   "id": "0d54228e",
   "metadata": {},
   "outputs": [],
   "source": []
  }
 ],
 "metadata": {
  "kernelspec": {
   "display_name": "Python 3",
   "language": "python",
   "name": "python3"
  },
  "language_info": {
   "codemirror_mode": {
    "name": "ipython",
    "version": 3
   },
   "file_extension": ".py",
   "mimetype": "text/x-python",
   "name": "python",
   "nbconvert_exporter": "python",
   "pygments_lexer": "ipython3",
   "version": "3.12.4"
  }
 },
 "nbformat": 4,
 "nbformat_minor": 5
}
